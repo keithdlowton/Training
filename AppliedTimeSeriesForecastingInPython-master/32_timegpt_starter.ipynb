{
 "cells": [
  {
   "cell_type": "code",
   "execution_count": null,
   "id": "08945cd3",
   "metadata": {},
   "outputs": [],
   "source": [
    "import pandas as pd\n",
    "import numpy as np\n",
    "import datetime\n",
    "import matplotlib.pyplot as plt\n",
    "\n",
    "from neuralforecast.core import NeuralForecast\n",
    "from neuralforecast.models import NHITS, NBEATS\n",
    "\n",
    "from neuralforecast.losses.numpy import mae, mse\n",
    "\n",
    "from nixtlats import TimeGPT\n",
    "\n",
    "%matplotlib inline"
   ]
  },
  {
   "cell_type": "code",
   "execution_count": null,
   "id": "217db5e2",
   "metadata": {},
   "outputs": [],
   "source": [
    "with open(\"data/timegpt_api_key.txt\", 'r') as file:\n",
    "        API_KEY = file.read()"
   ]
  },
  {
   "cell_type": "code",
   "execution_count": null,
   "id": "d462635d",
   "metadata": {},
   "outputs": [],
   "source": [
    "df = pd.read_csv('data/daily_min_temp.csv')\n",
    "df['Date'] = pd.to_datetime(df['Date'])\n",
    "\n",
    "df.head()"
   ]
  },
  {
   "cell_type": "code",
   "execution_count": null,
   "id": "e9bcddf0",
   "metadata": {},
   "outputs": [],
   "source": [
    "df['unique_id'] = 0\n",
    "df = df.rename(columns={\"Date\": \"ds\", \"Temp\": \"y\"})\n",
    "\n",
    "df = df[['unique_id', 'ds', 'y']]\n",
    "\n",
    "df.head()"
   ]
  },
  {
   "cell_type": "code",
   "execution_count": null,
   "id": "07ccfe7f",
   "metadata": {},
   "outputs": [],
   "source": [
    "fig, ax = plt.subplots(figsize=(9,6))\n",
    "\n",
    "ax.plot(df['ds'], df['y'])\n",
    "ax.set_xlabel('Time')\n",
    "ax.set_ylabel('Temperature (deg C)')\n",
    "\n",
    "fig.autofmt_xdate()\n",
    "plt.tight_layout()"
   ]
  },
  {
   "cell_type": "markdown",
   "id": "1b81c2fa",
   "metadata": {},
   "source": [
    "## Modeling "
   ]
  },
  {
   "cell_type": "markdown",
   "id": "66a84091",
   "metadata": {},
   "source": [
    "### TimeGPT "
   ]
  },
  {
   "cell_type": "code",
   "execution_count": null,
   "id": "2875ed77",
   "metadata": {},
   "outputs": [],
   "source": [
    "train = df[:-365]\n",
    "test = df[-365:]\n",
    "\n",
    "print(train.shape)\n",
    "print(test.shape)"
   ]
  },
  {
   "cell_type": "code",
   "execution_count": null,
   "id": "6d77b713",
   "metadata": {},
   "outputs": [],
   "source": []
  },
  {
   "cell_type": "markdown",
   "id": "cc1a955d",
   "metadata": {},
   "source": [
    "### Other models "
   ]
  },
  {
   "cell_type": "code",
   "execution_count": null,
   "id": "be23084d",
   "metadata": {},
   "outputs": [],
   "source": [
    "horizon = 365\n",
    "\n",
    "models = [NHITS(h=horizon,\n",
    "               input_size=2*horizon,\n",
    "               max_steps=30),\n",
    "         NBEATS(h=horizon,\n",
    "               input_size=2*horizon,\n",
    "               max_steps=30)]"
   ]
  },
  {
   "cell_type": "code",
   "execution_count": null,
   "id": "012d0b21",
   "metadata": {},
   "outputs": [],
   "source": [
    "nf = NeuralForecast(models=models, freq='D')"
   ]
  },
  {
   "cell_type": "code",
   "execution_count": null,
   "id": "200ef244",
   "metadata": {},
   "outputs": [],
   "source": [
    "preds_df = nf.cross_validation(df=df, step_size=horizon, n_windows=1)"
   ]
  },
  {
   "cell_type": "code",
   "execution_count": null,
   "id": "e6f37510",
   "metadata": {},
   "outputs": [],
   "source": [
    "preds_df.head()"
   ]
  },
  {
   "cell_type": "code",
   "execution_count": null,
   "id": "7c832b38",
   "metadata": {},
   "outputs": [],
   "source": []
  },
  {
   "cell_type": "markdown",
   "id": "543f2681",
   "metadata": {},
   "source": [
    "## Evaluation "
   ]
  },
  {
   "cell_type": "code",
   "execution_count": null,
   "id": "5de98bab",
   "metadata": {},
   "outputs": [],
   "source": [
    "fig, ax = plt.subplots(figsize=(9,6))\n",
    "\n",
    "ax.plot(preds_df['ds'], preds_df['y'], label='Actual')\n",
    "ax.plot(preds_df['ds'], preds_df['NHITS'], label='NHITS', ls='--', color='red')\n",
    "ax.plot(preds_df['ds'], preds_df['NBEATS'], label='NBEATS', ls=':', color='green')\n",
    "ax.plot(preds_df['ds'], preds_df['TimeGPT'], label='TimeGPT', ls='-.', color='black')\n",
    "\n",
    "ax.legend(loc='best')\n",
    "ax.set_xlabel('Time')\n",
    "ax.set_ylabel('Temperature (deg C)')\n",
    "\n",
    "fig.autofmt_xdate()\n",
    "plt.tight_layout()"
   ]
  },
  {
   "cell_type": "code",
   "execution_count": null,
   "id": "09d36730",
   "metadata": {},
   "outputs": [],
   "source": [
    "data = {'N-HiTS': [mae(preds_df['NHITS'], preds_df['y']), mse(preds_df['NHITS'], preds_df['y'])],\n",
    "       'N-BEATS': [mae(preds_df['NBEATS'], preds_df['y']), mse(preds_df['NBEATS'], preds_df['y'])],\n",
    "       'TimeGPT': [mae(preds_df['TimeGPT'], preds_df['y']), mse(preds_df['TimeGPT'], preds_df['y'])]}\n",
    "\n",
    "metrics_df = pd.DataFrame(data=data)\n",
    "metrics_df.index = ['mae', 'mse']\n",
    "\n",
    "metrics_df.style.highlight_min(color='lightgreen', axis=1)"
   ]
  },
  {
   "cell_type": "code",
   "execution_count": null,
   "id": "e8137f2e",
   "metadata": {},
   "outputs": [],
   "source": []
  },
  {
   "cell_type": "code",
   "execution_count": null,
   "id": "359d0c2b",
   "metadata": {},
   "outputs": [],
   "source": []
  }
 ],
 "metadata": {
  "kernelspec": {
   "display_name": "Python 3 (ipykernel)",
   "language": "python",
   "name": "python3"
  },
  "language_info": {
   "codemirror_mode": {
    "name": "ipython",
    "version": 3
   },
   "file_extension": ".py",
   "mimetype": "text/x-python",
   "name": "python",
   "nbconvert_exporter": "python",
   "pygments_lexer": "ipython3",
   "version": "3.10.11"
  }
 },
 "nbformat": 4,
 "nbformat_minor": 5
}
