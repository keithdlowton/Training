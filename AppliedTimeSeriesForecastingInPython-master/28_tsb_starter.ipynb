{
 "cells": [
  {
   "cell_type": "code",
   "execution_count": null,
   "id": "ee2db499",
   "metadata": {},
   "outputs": [],
   "source": [
    "import pandas as pd\n",
    "import numpy as np\n",
    "import matplotlib.pyplot as plt\n",
    "\n",
    "from statsforecast import StatsForecast\n",
    "from statsforecast.models import CrostonOptimized, ADIDA\n",
    "\n",
    "import warnings\n",
    "warnings.filterwarnings('ignore')\n",
    "\n",
    "%matplotlib inline"
   ]
  },
  {
   "cell_type": "code",
   "execution_count": null,
   "id": "b139d7c5",
   "metadata": {},
   "outputs": [],
   "source": [
    "plt.rcParams[\"figure.figsize\"] = (9,6)"
   ]
  },
  {
   "cell_type": "code",
   "execution_count": null,
   "id": "33cddc77",
   "metadata": {},
   "outputs": [],
   "source": [
    "df = pd.read_csv('data/intermittent_time_series.csv')\n",
    "\n",
    "df.head()"
   ]
  },
  {
   "cell_type": "markdown",
   "id": "4f154f55",
   "metadata": {},
   "source": [
    "## TSB "
   ]
  },
  {
   "cell_type": "code",
   "execution_count": null,
   "id": "86c9c8cc",
   "metadata": {},
   "outputs": [],
   "source": [
    "# Model with Croston, ADIDA and TSB\n",
    "\n",
    "sf = StatsForecast(\n",
    "    df=df,\n",
    "    models=models,\n",
    "    freq='H',\n",
    "    n_jobs=-1\n",
    ")\n",
    "\n",
    "cv_df = sf.cross_validation(\n",
    "    df=df,\n",
    "    h=1,\n",
    "    step_size=1,\n",
    "    n_windows=50\n",
    ")\n",
    "\n",
    "cv_df.index = np.arange(50, 100, 1)"
   ]
  },
  {
   "cell_type": "code",
   "execution_count": null,
   "id": "9520e958",
   "metadata": {},
   "outputs": [],
   "source": [
    "fig, ax = plt.subplots(figsize=(10,8))\n",
    "\n",
    "ax.bar(df.index, df['y'], color='lightgray')\n",
    "ax.plot(cv_df.index, cv_df['TSB'], ls='--', label='TSB')\n",
    "ax.plot(cv_df.index, cv_df['CrostonOptimized'], ls=':', label='Croston')\n",
    "ax.plot(cv_df.index, cv_df['ADIDA'], ls='-.', label='ADIDA')\n",
    "\n",
    "ax.set_ylabel('Value')\n",
    "ax.set_xlabel('Time steps')\n",
    "ax.legend(loc='best')\n",
    "plt.xlim(40, 100)\n",
    "\n",
    "plt.tight_layout()"
   ]
  },
  {
   "cell_type": "code",
   "execution_count": null,
   "id": "36c5e95f",
   "metadata": {},
   "outputs": [],
   "source": [
    "from sklearn.metrics import mean_absolute_error\n",
    "\n",
    "mae_croston = mean_absolute_error(cv_df['y'], cv_df['CrostonOptimized'])\n",
    "mae_adida = mean_absolute_error(cv_df['y'], cv_df['ADIDA'])\n",
    "mae_tsb = mean_absolute_error(cv_df['y'], cv_df['TSB'])\n",
    "\n",
    "print(f'MAE Croston: {mae_croston}')\n",
    "print(f'MAE ADIDA: {mae_adida}')\n",
    "print(f'MAE TSB: {mae_tsb}')"
   ]
  },
  {
   "cell_type": "code",
   "execution_count": null,
   "id": "51ea3a57",
   "metadata": {},
   "outputs": [],
   "source": []
  }
 ],
 "metadata": {
  "kernelspec": {
   "display_name": "Python 3",
   "language": "python",
   "name": "python3"
  },
  "language_info": {
   "codemirror_mode": {
    "name": "ipython",
    "version": 3
   },
   "file_extension": ".py",
   "mimetype": "text/x-python",
   "name": "python",
   "nbconvert_exporter": "python",
   "pygments_lexer": "ipython3",
   "version": "3.10.9"
  }
 },
 "nbformat": 4,
 "nbformat_minor": 5
}
