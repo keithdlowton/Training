{
 "cells": [
  {
   "cell_type": "code",
   "execution_count": null,
   "id": "27c2b19a",
   "metadata": {},
   "outputs": [],
   "source": [
    "import numpy as np\n",
    "import pandas as pd\n",
    "import matplotlib.pyplot as plt\n",
    "\n",
    "from neuralforecast.core import NeuralForecast\n",
    "from neuralforecast.models import NHITS, NBEATS, TimesNet\n",
    "\n",
    "from neuralforecast.losses.pytorch import MAE\n",
    "from neuralforecast.losses.numpy import mae, mse\n",
    "\n",
    "import warnings\n",
    "warnings.filterwarnings('ignore')\n",
    "\n",
    "%matplotlib inline"
   ]
  },
  {
   "cell_type": "code",
   "execution_count": null,
   "id": "0ea1b0cd",
   "metadata": {},
   "outputs": [],
   "source": [
    "df = pd.read_csv('data/daily_min_temp.csv')\n",
    "df['Date'] = pd.to_datetime(df['Date'])\n",
    "\n",
    "df.head()"
   ]
  },
  {
   "cell_type": "code",
   "execution_count": null,
   "id": "9c4c1da9",
   "metadata": {},
   "outputs": [],
   "source": [
    "df['unique_id'] = 0\n",
    "df = df.rename(columns={\"Date\": \"ds\", \"Temp\": \"y\"})\n",
    "\n",
    "df = df[['unique_id', 'ds', 'y']]\n",
    "\n",
    "df.head()"
   ]
  },
  {
   "cell_type": "code",
   "execution_count": null,
   "id": "4fdf1e5f",
   "metadata": {},
   "outputs": [],
   "source": [
    "fig, ax = plt.subplots(figsize=(9,6))\n",
    "\n",
    "ax.plot(df['ds'], df['y'])\n",
    "ax.set_xlabel('Time')\n",
    "ax.set_ylabel('Temperature (deg C)')\n",
    "\n",
    "fig.autofmt_xdate()\n",
    "plt.tight_layout()"
   ]
  },
  {
   "cell_type": "markdown",
   "id": "1a1ba6ad",
   "metadata": {},
   "source": [
    "## Modeling "
   ]
  },
  {
   "cell_type": "code",
   "execution_count": null,
   "id": "4614135d",
   "metadata": {},
   "outputs": [],
   "source": []
  },
  {
   "cell_type": "code",
   "execution_count": null,
   "id": "e43bff88",
   "metadata": {},
   "outputs": [],
   "source": []
  },
  {
   "cell_type": "code",
   "execution_count": null,
   "id": "9c39471a",
   "metadata": {},
   "outputs": [],
   "source": []
  },
  {
   "cell_type": "code",
   "execution_count": null,
   "id": "8712aeb5",
   "metadata": {},
   "outputs": [],
   "source": []
  },
  {
   "cell_type": "markdown",
   "id": "cd09212b",
   "metadata": {},
   "source": [
    "## Evaluation "
   ]
  },
  {
   "cell_type": "code",
   "execution_count": null,
   "id": "fe0a0454",
   "metadata": {},
   "outputs": [],
   "source": [
    "fig, ax = plt.subplots(figsize=(9,6))\n",
    "\n",
    "ax.plot(preds_df['ds'], preds_df['y'], label='Actual')\n",
    "ax.plot(preds_df['ds'], preds_df['NHITS'], label='NHITS', ls='--', color='red')\n",
    "ax.plot(preds_df['ds'], preds_df['NBEATS'], label='NBEATS', ls=':', color='green')\n",
    "ax.plot(preds_df['ds'], preds_df['TimesNet'], label='TimesNet', ls='-.', color='black')\n",
    "\n",
    "ax.legend(loc='best')\n",
    "ax.set_xlabel('Time')\n",
    "ax.set_ylabel('Temperature (deg C)')\n",
    "\n",
    "fig.autofmt_xdate()\n",
    "plt.tight_layout()"
   ]
  },
  {
   "cell_type": "code",
   "execution_count": null,
   "id": "5d41d7a3",
   "metadata": {},
   "outputs": [],
   "source": [
    "data = {'N-HiTS': [mae(preds_df['NHITS'], preds_df['y']), mse(preds_df['NHITS'], preds_df['y'])],\n",
    "       'N-BEATS': [mae(preds_df['NBEATS'], preds_df['y']), mse(preds_df['NBEATS'], preds_df['y'])],\n",
    "       'TimesNet': [mae(preds_df['TimesNet'], preds_df['y']), mse(preds_df['TimesNet'], preds_df['y'])]}\n",
    "\n",
    "metrics_df = pd.DataFrame(data=data)\n",
    "metrics_df.index = ['mae', 'mse']\n",
    "\n",
    "metrics_df.style.highlight_min(color='lightgreen', axis=1)"
   ]
  },
  {
   "cell_type": "code",
   "execution_count": null,
   "id": "7edaeb6c",
   "metadata": {},
   "outputs": [],
   "source": []
  }
 ],
 "metadata": {
  "kernelspec": {
   "display_name": "Python 3 (ipykernel)",
   "language": "python",
   "name": "python3"
  },
  "language_info": {
   "codemirror_mode": {
    "name": "ipython",
    "version": 3
   },
   "file_extension": ".py",
   "mimetype": "text/x-python",
   "name": "python",
   "nbconvert_exporter": "python",
   "pygments_lexer": "ipython3",
   "version": "3.10.11"
  }
 },
 "nbformat": 4,
 "nbformat_minor": 5
}
