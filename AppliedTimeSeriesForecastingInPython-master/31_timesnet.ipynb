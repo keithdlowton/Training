{
 "cells": [
  {
   "cell_type": "code",
   "execution_count": 1,
   "id": "27c2b19a",
   "metadata": {},
   "outputs": [],
   "source": [
    "import numpy as np\n",
    "import pandas as pd\n",
    "import matplotlib.pyplot as plt\n",
    "\n",
    "from neuralforecast.core import NeuralForecast\n",
    "from neuralforecast.models import NHITS, NBEATS, TimesNet\n",
    "\n",
    "from neuralforecast.losses.pytorch import MAE\n",
    "from neuralforecast.losses.numpy import mae, mse\n",
    "\n",
    "import warnings\n",
    "warnings.filterwarnings('ignore')\n",
    "\n",
    "%matplotlib inline"
   ]
  },
  {
   "cell_type": "code",
   "execution_count": 2,
   "id": "0ea1b0cd",
   "metadata": {},
   "outputs": [
    {
     "data": {
      "text/html": [
       "<div>\n",
       "<style scoped>\n",
       "    .dataframe tbody tr th:only-of-type {\n",
       "        vertical-align: middle;\n",
       "    }\n",
       "\n",
       "    .dataframe tbody tr th {\n",
       "        vertical-align: top;\n",
       "    }\n",
       "\n",
       "    .dataframe thead th {\n",
       "        text-align: right;\n",
       "    }\n",
       "</style>\n",
       "<table border=\"1\" class=\"dataframe\">\n",
       "  <thead>\n",
       "    <tr style=\"text-align: right;\">\n",
       "      <th></th>\n",
       "      <th>Date</th>\n",
       "      <th>Temp</th>\n",
       "    </tr>\n",
       "  </thead>\n",
       "  <tbody>\n",
       "    <tr>\n",
       "      <th>0</th>\n",
       "      <td>1981-01-01</td>\n",
       "      <td>20.7</td>\n",
       "    </tr>\n",
       "    <tr>\n",
       "      <th>1</th>\n",
       "      <td>1981-01-02</td>\n",
       "      <td>17.9</td>\n",
       "    </tr>\n",
       "    <tr>\n",
       "      <th>2</th>\n",
       "      <td>1981-01-03</td>\n",
       "      <td>18.8</td>\n",
       "    </tr>\n",
       "    <tr>\n",
       "      <th>3</th>\n",
       "      <td>1981-01-04</td>\n",
       "      <td>14.6</td>\n",
       "    </tr>\n",
       "    <tr>\n",
       "      <th>4</th>\n",
       "      <td>1981-01-05</td>\n",
       "      <td>15.8</td>\n",
       "    </tr>\n",
       "  </tbody>\n",
       "</table>\n",
       "</div>"
      ],
      "text/plain": [
       "        Date  Temp\n",
       "0 1981-01-01  20.7\n",
       "1 1981-01-02  17.9\n",
       "2 1981-01-03  18.8\n",
       "3 1981-01-04  14.6\n",
       "4 1981-01-05  15.8"
      ]
     },
     "execution_count": 2,
     "metadata": {},
     "output_type": "execute_result"
    }
   ],
   "source": [
    "df = pd.read_csv('data/daily_min_temp.csv')\n",
    "df['Date'] = pd.to_datetime(df['Date'])\n",
    "\n",
    "df.head()"
   ]
  },
  {
   "cell_type": "code",
   "execution_count": 3,
   "id": "9c4c1da9",
   "metadata": {},
   "outputs": [
    {
     "data": {
      "text/html": [
       "<div>\n",
       "<style scoped>\n",
       "    .dataframe tbody tr th:only-of-type {\n",
       "        vertical-align: middle;\n",
       "    }\n",
       "\n",
       "    .dataframe tbody tr th {\n",
       "        vertical-align: top;\n",
       "    }\n",
       "\n",
       "    .dataframe thead th {\n",
       "        text-align: right;\n",
       "    }\n",
       "</style>\n",
       "<table border=\"1\" class=\"dataframe\">\n",
       "  <thead>\n",
       "    <tr style=\"text-align: right;\">\n",
       "      <th></th>\n",
       "      <th>unique_id</th>\n",
       "      <th>ds</th>\n",
       "      <th>y</th>\n",
       "    </tr>\n",
       "  </thead>\n",
       "  <tbody>\n",
       "    <tr>\n",
       "      <th>0</th>\n",
       "      <td>0</td>\n",
       "      <td>1981-01-01</td>\n",
       "      <td>20.7</td>\n",
       "    </tr>\n",
       "    <tr>\n",
       "      <th>1</th>\n",
       "      <td>0</td>\n",
       "      <td>1981-01-02</td>\n",
       "      <td>17.9</td>\n",
       "    </tr>\n",
       "    <tr>\n",
       "      <th>2</th>\n",
       "      <td>0</td>\n",
       "      <td>1981-01-03</td>\n",
       "      <td>18.8</td>\n",
       "    </tr>\n",
       "    <tr>\n",
       "      <th>3</th>\n",
       "      <td>0</td>\n",
       "      <td>1981-01-04</td>\n",
       "      <td>14.6</td>\n",
       "    </tr>\n",
       "    <tr>\n",
       "      <th>4</th>\n",
       "      <td>0</td>\n",
       "      <td>1981-01-05</td>\n",
       "      <td>15.8</td>\n",
       "    </tr>\n",
       "  </tbody>\n",
       "</table>\n",
       "</div>"
      ],
      "text/plain": [
       "   unique_id         ds     y\n",
       "0          0 1981-01-01  20.7\n",
       "1          0 1981-01-02  17.9\n",
       "2          0 1981-01-03  18.8\n",
       "3          0 1981-01-04  14.6\n",
       "4          0 1981-01-05  15.8"
      ]
     },
     "execution_count": 3,
     "metadata": {},
     "output_type": "execute_result"
    }
   ],
   "source": [
    "df['unique_id'] = 0\n",
    "df = df.rename(columns={\"Date\": \"ds\", \"Temp\": \"y\"})\n",
    "\n",
    "df = df[['unique_id', 'ds', 'y']]\n",
    "\n",
    "df.head()"
   ]
  },
  {
   "cell_type": "code",
   "execution_count": 4,
   "id": "4fdf1e5f",
   "metadata": {},
   "outputs": [
    {
     "data": {
      "image/png": "[encoded data removed]",
      "text/plain": [
       "<Figure size 900x600 with 1 Axes>"
      ]
     },
     "metadata": {},
     "output_type": "display_data"
    }
   ],
   "source": [
    "fig, ax = plt.subplots(figsize=(9,6))\n",
    "\n",
    "ax.plot(df['ds'], df['y'])\n",
    "ax.set_xlabel('Time')\n",
    "ax.set_ylabel('Temperature (deg C)')\n",
    "\n",
    "fig.autofmt_xdate()\n",
    "plt.tight_layout()"
   ]
  },
  {
   "cell_type": "markdown",
   "id": "1a1ba6ad",
   "metadata": {},
   "source": [
    "## Modeling "
   ]
  },
  {
   "cell_type": "code",
   "execution_count": 5,
   "id": "4614135d",
   "metadata": {},
   "outputs": [
    {
     "name": "stderr",
     "output_type": "stream",
     "text": [
      "Global seed set to 1\n",
      "Global seed set to 1\n",
      "Global seed set to 1\n"
     ]
    }
   ],
   "source": [
    "horizon = 365\n",
    "\n",
    "models = [NHITS(h=horizon,\n",
    "               input_size=horizon,\n",
    "               max_steps=10),\n",
    "         NBEATS(h=horizon,\n",
    "               input_size=horizon,\n",
    "               max_steps=10),\n",
    "         TimesNet(h=horizon,\n",
    "                 input_size=horizon,\n",
    "                 max_steps=10)]"
   ]
  },
  {
   "cell_type": "code",
   "execution_count": 6,
   "id": "e43bff88",
   "metadata": {},
   "outputs": [],
   "source": [
    "nf = NeuralForecast(models=models, freq='D')"
   ]
  },
  {
   "cell_type": "code",
   "execution_count": 9,
   "id": "9c39471a",
   "metadata": {},
   "outputs": [
    {
     "name": "stdout",
     "output_type": "stream",
     "text": [
      "Epoch 0:   0%|                                                                                   | 0/1 [00:06<?, ?it/s]\n",
      "Epoch 9: 100%|█████████████████| 1/1 [00:00<00:00,  7.14it/s, v_num=28, train_loss_step=0.727, train_loss_epoch=0.0573]\n",
      "Validation: 0it [00:00, ?it/s]\u001b[A\n",
      "Validation:   0%|                                                                                | 0/1 [00:00<?, ?it/s]\u001b[A\n",
      "Validation DataLoader 0:   0%|                                                                   | 0/1 [00:00<?, ?it/s]\u001b[A\n",
      "Epoch 9: 100%|█████████████████| 1/1 [00:00<00:00,  6.45it/s, v_num=28, train_loss_step=0.727, train_loss_epoch=0.0573]\u001b[A\n",
      "Epoch 9: 100%|██████████████████| 1/1 [00:00<00:00,  6.13it/s, v_num=28, train_loss_step=0.727, train_loss_epoch=0.727]\u001b[A\n",
      "Predicting DataLoader 0: 100%|██████████████████████████████████████████████████████████| 1/1 [00:00<00:00, 124.93it/s]\n",
      "Epoch 9: 100%|██████████████████| 1/1 [00:00<00:00,  6.85it/s, v_num=30, train_loss_step=4.620, train_loss_epoch=8.440]\n",
      "Validation: 0it [00:00, ?it/s]\u001b[A\n",
      "Validation:   0%|                                                                                | 0/1 [00:00<?, ?it/s]\u001b[A\n",
      "Validation DataLoader 0:   0%|                                                                   | 0/1 [00:00<?, ?it/s]\u001b[A\n",
      "Epoch 9: 100%|██████████████████| 1/1 [00:00<00:00,  6.25it/s, v_num=30, train_loss_step=4.620, train_loss_epoch=8.440]\u001b[A\n",
      "Epoch 9: 100%|██████████████████| 1/1 [00:00<00:00,  5.99it/s, v_num=30, train_loss_step=4.620, train_loss_epoch=4.620]\u001b[A\n",
      "Predicting DataLoader 0: 100%|██████████████████████████████████████████████████████████| 1/1 [00:00<00:00, 111.12it/s]\n",
      "Epoch 9: 100%|███████████████| 1/1 [05:48<00:00, 348.61s/it, v_num=32, train_loss_step=0.0972, train_loss_epoch=0.0733]\n",
      "Validation: 0it [00:00, ?it/s]\u001b[A\n",
      "Validation:   0%|                                                                                | 0/1 [00:00<?, ?it/s]\u001b[A\n",
      "Validation DataLoader 0:   0%|                                                                   | 0/1 [00:00<?, ?it/s]\u001b[A\n",
      "Epoch 9: 100%|███████████████| 1/1 [05:48<00:00, 348.62s/it, v_num=32, train_loss_step=0.0972, train_loss_epoch=0.0733]\u001b[A\n",
      "Epoch 9: 100%|███████████████| 1/1 [05:48<00:00, 348.63s/it, v_num=32, train_loss_step=0.0972, train_loss_epoch=0.0972]\u001b[A\n",
      "Predicting DataLoader 0: 100%|███████████████████████████████████████████████████████████| 1/1 [00:00<00:00,  4.10it/s]\n"
     ]
    }
   ],
   "source": [
    "preds_df = nf.cross_validation(df=df[-731:], step_size=horizon, n_windows=1)"
   ]
  },
  {
   "cell_type": "code",
   "execution_count": 10,
   "id": "8712aeb5",
   "metadata": {},
   "outputs": [
    {
     "data": {
      "text/html": [
       "<div>\n",
       "<style scoped>\n",
       "    .dataframe tbody tr th:only-of-type {\n",
       "        vertical-align: middle;\n",
       "    }\n",
       "\n",
       "    .dataframe tbody tr th {\n",
       "        vertical-align: top;\n",
       "    }\n",
       "\n",
       "    .dataframe thead th {\n",
       "        text-align: right;\n",
       "    }\n",
       "</style>\n",
       "<table border=\"1\" class=\"dataframe\">\n",
       "  <thead>\n",
       "    <tr style=\"text-align: right;\">\n",
       "      <th></th>\n",
       "      <th>unique_id</th>\n",
       "      <th>ds</th>\n",
       "      <th>cutoff</th>\n",
       "      <th>NHITS</th>\n",
       "      <th>NBEATS</th>\n",
       "      <th>TimesNet</th>\n",
       "      <th>y</th>\n",
       "    </tr>\n",
       "  </thead>\n",
       "  <tbody>\n",
       "    <tr>\n",
       "      <th>0</th>\n",
       "      <td>0</td>\n",
       "      <td>1990-01-01</td>\n",
       "      <td>1989-12-31</td>\n",
       "      <td>11.793491</td>\n",
       "      <td>8.607419</td>\n",
       "      <td>12.536865</td>\n",
       "      <td>14.8</td>\n",
       "    </tr>\n",
       "    <tr>\n",
       "      <th>1</th>\n",
       "      <td>0</td>\n",
       "      <td>1990-01-02</td>\n",
       "      <td>1989-12-31</td>\n",
       "      <td>12.129256</td>\n",
       "      <td>6.997339</td>\n",
       "      <td>15.154198</td>\n",
       "      <td>13.3</td>\n",
       "    </tr>\n",
       "    <tr>\n",
       "      <th>2</th>\n",
       "      <td>0</td>\n",
       "      <td>1990-01-03</td>\n",
       "      <td>1989-12-31</td>\n",
       "      <td>11.638921</td>\n",
       "      <td>9.680237</td>\n",
       "      <td>12.507437</td>\n",
       "      <td>15.6</td>\n",
       "    </tr>\n",
       "    <tr>\n",
       "      <th>3</th>\n",
       "      <td>0</td>\n",
       "      <td>1990-01-04</td>\n",
       "      <td>1989-12-31</td>\n",
       "      <td>12.396671</td>\n",
       "      <td>8.612388</td>\n",
       "      <td>7.581656</td>\n",
       "      <td>14.5</td>\n",
       "    </tr>\n",
       "    <tr>\n",
       "      <th>4</th>\n",
       "      <td>0</td>\n",
       "      <td>1990-01-05</td>\n",
       "      <td>1989-12-31</td>\n",
       "      <td>12.661303</td>\n",
       "      <td>9.428107</td>\n",
       "      <td>12.802521</td>\n",
       "      <td>14.3</td>\n",
       "    </tr>\n",
       "  </tbody>\n",
       "</table>\n",
       "</div>"
      ],
      "text/plain": [
       "   unique_id         ds     cutoff      NHITS    NBEATS   TimesNet     y\n",
       "0          0 1990-01-01 1989-12-31  11.793491  8.607419  12.536865  14.8\n",
       "1          0 1990-01-02 1989-12-31  12.129256  6.997339  15.154198  13.3\n",
       "2          0 1990-01-03 1989-12-31  11.638921  9.680237  12.507437  15.6\n",
       "3          0 1990-01-04 1989-12-31  12.396671  8.612388   7.581656  14.5\n",
       "4          0 1990-01-05 1989-12-31  12.661303  9.428107  12.802521  14.3"
      ]
     },
     "execution_count": 10,
     "metadata": {},
     "output_type": "execute_result"
    }
   ],
   "source": [
    "preds_df.head()"
   ]
  },
  {
   "cell_type": "markdown",
   "id": "cd09212b",
   "metadata": {},
   "source": [
    "## Evaluation "
   ]
  },
  {
   "cell_type": "code",
   "execution_count": null,
   "id": "fe0a0454",
   "metadata": {},
   "outputs": [],
   "source": [
    "fig, ax = plt.subplots(figsize=(9,6))\n",
    "\n",
    "ax.plot(preds_df['ds'], preds_df['y'], label='Actual')\n",
    "ax.plot(preds_df['ds'], preds_df['NHITS'], label='NHITS', ls='--', color='red')\n",
    "ax.plot(preds_df['ds'], preds_df['NBEATS'], label='NBEATS', ls=':', color='green')\n",
    "ax.plot(preds_df['ds'], preds_df['TimesNet'], label='TimesNet', ls='-.', color='black')\n",
    "\n",
    "ax.legend(loc='best')\n",
    "ax.set_xlabel('Time')\n",
    "ax.set_ylabel('Temperature (deg C)')\n",
    "\n",
    "fig.autofmt_xdate()\n",
    "plt.tight_layout()"
   ]
  },
  {
   "cell_type": "code",
   "execution_count": 13,
   "id": "5d41d7a3",
   "metadata": {},
   "outputs": [
    {
     "data": {
      "text/html": [
       "<style type=\"text/css\">\n",
       "#T_e4213_row0_col0, #T_e4213_row1_col0 {\n",
       "  background-color: lightgreen;\n",
       "}\n",
       "</style>\n",
       "<table id=\"T_e4213\">\n",
       "  <thead>\n",
       "    <tr>\n",
       "      <th class=\"blank level0\" >&nbsp;</th>\n",
       "      <th id=\"T_e4213_level0_col0\" class=\"col_heading level0 col0\" >N-HiTS</th>\n",
       "      <th id=\"T_e4213_level0_col1\" class=\"col_heading level0 col1\" >N-BEATS</th>\n",
       "      <th id=\"T_e4213_level0_col2\" class=\"col_heading level0 col2\" >TimesNet</th>\n",
       "    </tr>\n",
       "  </thead>\n",
       "  <tbody>\n",
       "    <tr>\n",
       "      <th id=\"T_e4213_level0_row0\" class=\"row_heading level0 row0\" >mae</th>\n",
       "      <td id=\"T_e4213_row0_col0\" class=\"data row0 col0\" >3.322150</td>\n",
       "      <td id=\"T_e4213_row0_col1\" class=\"data row0 col1\" >3.915893</td>\n",
       "      <td id=\"T_e4213_row0_col2\" class=\"data row0 col2\" >3.863968</td>\n",
       "    </tr>\n",
       "    <tr>\n",
       "      <th id=\"T_e4213_level0_row1\" class=\"row_heading level0 row1\" >mse</th>\n",
       "      <td id=\"T_e4213_row1_col0\" class=\"data row1 col0\" >16.047573</td>\n",
       "      <td id=\"T_e4213_row1_col1\" class=\"data row1 col1\" >23.962759</td>\n",
       "      <td id=\"T_e4213_row1_col2\" class=\"data row1 col2\" >21.626941</td>\n",
       "    </tr>\n",
       "  </tbody>\n",
       "</table>\n"
      ],
      "text/plain": [
       "<pandas.io.formats.style.Styler at 0x2b880047010>"
      ]
     },
     "execution_count": 13,
     "metadata": {},
     "output_type": "execute_result"
    }
   ],
   "source": [
    "data = {'N-HiTS': [mae(preds_df['NHITS'], preds_df['y']), mse(preds_df['NHITS'], preds_df['y'])],\n",
    "       'N-BEATS': [mae(preds_df['NBEATS'], preds_df['y']), mse(preds_df['NBEATS'], preds_df['y'])],\n",
    "       'TimesNet': [mae(preds_df['TimesNet'], preds_df['y']), mse(preds_df['TimesNet'], preds_df['y'])]}\n",
    "\n",
    "metrics_df = pd.DataFrame(data=data)\n",
    "metrics_df.index = ['mae', 'mse']\n",
    "\n",
    "metrics_df.style.highlight_min(color='lightgreen', axis=1)"
   ]
  },
  {
   "cell_type": "code",
   "execution_count": null,
   "id": "7edaeb6c",
   "metadata": {},
   "outputs": [],
   "source": []
  }
 ],
 "metadata": {
  "kernelspec": {
   "display_name": "Python 3 (ipykernel)",
   "language": "python",
   "name": "python3"
  },
  "language_info": {
   "codemirror_mode": {
    "name": "ipython",
    "version": 3
   },
   "file_extension": ".py",
   "mimetype": "text/x-python",
   "name": "python",
   "nbconvert_exporter": "python",
   "pygments_lexer": "ipython3",
   "version": "3.10.13"
  }
 },
 "nbformat": 4,
 "nbformat_minor": 5
}
