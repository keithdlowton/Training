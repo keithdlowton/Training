{
 "cells": [
  {
   "cell_type": "code",
   "execution_count": null,
   "id": "a7722505",
   "metadata": {},
   "outputs": [],
   "source": [
    "import pandas as pd\n",
    "import numpy as np\n",
    "import matplotlib.pyplot as plt\n",
    "\n",
    "from statsforecast import StatsForecast\n",
    "from statsforecast.models import CrostonOptimized, ADIDA, TSB\n",
    "\n",
    "import warnings\n",
    "warnings.filterwarnings('ignore')\n",
    "\n",
    "%matplotlib inline"
   ]
  },
  {
   "cell_type": "code",
   "execution_count": null,
   "id": "a9c10d95",
   "metadata": {},
   "outputs": [],
   "source": [
    "plt.rcParams[\"figure.figsize\"] = (9,6)"
   ]
  },
  {
   "cell_type": "code",
   "execution_count": null,
   "id": "501318a4",
   "metadata": {},
   "outputs": [],
   "source": [
    "df = pd.read_csv('data/intermittent_time_series.csv')\n",
    "\n",
    "df.head()"
   ]
  },
  {
   "cell_type": "code",
   "execution_count": null,
   "id": "0094b8bc",
   "metadata": {},
   "outputs": [],
   "source": [
    "models = [TSB(0.1, 0.1), ADIDA(), CrostonOptimized()]\n",
    "\n",
    "sf = StatsForecast(\n",
    "    df=df,\n",
    "    models=models,\n",
    "    freq='H',\n",
    "    n_jobs=-1\n",
    ")\n",
    "\n",
    "cv_df = sf.cross_validation(\n",
    "    df=df,\n",
    "    h=1,\n",
    "    step_size=1,\n",
    "    n_windows=50\n",
    ")\n",
    "\n",
    "cv_df.index = np.arange(50, 100, 1)"
   ]
  },
  {
   "cell_type": "code",
   "execution_count": null,
   "id": "b44dc8b0",
   "metadata": {},
   "outputs": [],
   "source": [
    "fig, ax = plt.subplots(figsize=(10,8))\n",
    "\n",
    "ax.bar(df.index, df['y'], color='lightgray')\n",
    "ax.plot(cv_df.index, cv_df['TSB'], ls='--', label='TSB')\n",
    "ax.plot(cv_df.index, cv_df['CrostonOptimized'], ls=':', label='Croston')\n",
    "ax.plot(cv_df.index, cv_df['ADIDA'], ls='-.', label='ADIDA')\n",
    "\n",
    "ax.set_ylabel('Value')\n",
    "ax.set_xlabel('Time steps')\n",
    "ax.legend(loc='best')\n",
    "plt.xlim(40, 100)\n",
    "\n",
    "plt.tight_layout()"
   ]
  },
  {
   "cell_type": "markdown",
   "id": "d1459658",
   "metadata": {},
   "source": [
    "## CFE, CFE_min, CFE_max, PIS, NOS"
   ]
  },
  {
   "cell_type": "code",
   "execution_count": null,
   "id": "dcc24fb9",
   "metadata": {},
   "outputs": [],
   "source": [
    "def errors(y_true, y_pred):\n",
    "    \n",
    "    # CFE\n",
    "\n",
    "    \n",
    "    # PIS\n",
    "\n",
    "    \n",
    "    # NOS\n",
    "    \n",
    "    pass"
   ]
  },
  {
   "cell_type": "code",
   "execution_count": null,
   "id": "312c4b2d",
   "metadata": {},
   "outputs": [],
   "source": []
  },
  {
   "cell_type": "code",
   "execution_count": null,
   "id": "9dd24bdd",
   "metadata": {},
   "outputs": [],
   "source": []
  },
  {
   "cell_type": "code",
   "execution_count": null,
   "id": "66468c6f",
   "metadata": {},
   "outputs": [],
   "source": []
  },
  {
   "cell_type": "code",
   "execution_count": null,
   "id": "b15a2443",
   "metadata": {},
   "outputs": [],
   "source": []
  },
  {
   "cell_type": "code",
   "execution_count": null,
   "id": "0d266cfb",
   "metadata": {},
   "outputs": [],
   "source": [
    "fig, ax = plt.subplots()\n",
    "\n",
    "x = ['Croston', 'ADIDA', 'TSB']\n",
    "\n",
    "# Plot errors\n",
    "\n",
    "\n",
    "ax.set_xlabel('Models')\n",
    "ax.set_ylabel('CFE')\n",
    "\n",
    "for i, v in enumerate(y):\n",
    "    plt.text(x=i+0.03, y=v, s=str(round(v,2)), va='center')\n",
    "\n",
    "plt.tight_layout()"
   ]
  },
  {
   "cell_type": "code",
   "execution_count": null,
   "id": "e144cd5c",
   "metadata": {},
   "outputs": [],
   "source": [
    "abs(-4)"
   ]
  },
  {
   "cell_type": "code",
   "execution_count": null,
   "id": "cb786e17",
   "metadata": {},
   "outputs": [],
   "source": []
  }
 ],
 "metadata": {
  "kernelspec": {
   "display_name": "Python 3",
   "language": "python",
   "name": "python3"
  },
  "language_info": {
   "codemirror_mode": {
    "name": "ipython",
    "version": 3
   },
   "file_extension": ".py",
   "mimetype": "text/x-python",
   "name": "python",
   "nbconvert_exporter": "python",
   "pygments_lexer": "ipython3",
   "version": "3.10.9"
  }
 },
 "nbformat": 4,
 "nbformat_minor": 5
}
