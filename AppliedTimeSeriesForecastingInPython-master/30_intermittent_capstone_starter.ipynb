{
 "cells": [
  {
   "cell_type": "code",
   "execution_count": null,
   "id": "20bb6ab7",
   "metadata": {},
   "outputs": [],
   "source": [
    "import pandas as pd\n",
    "import numpy as np\n",
    "import matplotlib.pyplot as plt\n",
    "\n",
    "from statsforecast import StatsForecast\n",
    "from statsforecast.models import CrostonOptimized, ADIDA, TSB\n",
    "\n",
    "import warnings\n",
    "warnings.filterwarnings('ignore')\n",
    "\n",
    "%matplotlib inline"
   ]
  },
  {
   "cell_type": "code",
   "execution_count": null,
   "id": "667b07b3",
   "metadata": {},
   "outputs": [],
   "source": [
    "plt.rcParams[\"figure.figsize\"] = (9,6)"
   ]
  },
  {
   "cell_type": "code",
   "execution_count": null,
   "id": "2d67ee62",
   "metadata": {},
   "outputs": [],
   "source": [
    "def errors(y_true, y_pred):\n",
    "    \n",
    "    # CFE\n",
    "    cfe_all = np.cumsum(y_true - y_pred)\n",
    "    cfe = cfe_all.iloc[-1]\n",
    "    \n",
    "    cfe_max = np.max(cfe_all)\n",
    "    cfe_min = np.min(cfe_all)\n",
    "    \n",
    "    # PIS\n",
    "    pis_all = -np.cumsum(cfe_all)\n",
    "    pis = pis_all.iloc[-1]\n",
    "    \n",
    "    # NOS\n",
    "    nos = len(cfe_all[cfe_all > 0])\n",
    "\n",
    "    errors = {\n",
    "        \"CFE\": cfe,\n",
    "        \"CFE_max\": cfe_max,\n",
    "        \"CFE_min\": cfe_min,\n",
    "        \"PIS\": pis,\n",
    "        \"NOS\": nos\n",
    "    }\n",
    "    \n",
    "    return errors"
   ]
  },
  {
   "cell_type": "code",
   "execution_count": null,
   "id": "a380cf6e",
   "metadata": {},
   "outputs": [],
   "source": [
    "df = pd.read_csv('data/car_parts_monthly_sales.csv')\n",
    "\n",
    "df['date'] = pd.to_datetime(df['date'])\n",
    "\n",
    "df.head()"
   ]
  },
  {
   "cell_type": "code",
   "execution_count": null,
   "id": "3878f69a",
   "metadata": {},
   "outputs": [],
   "source": [
    "# list unique parts_id\n"
   ]
  },
  {
   "cell_type": "code",
   "execution_count": null,
   "id": "ce6df3b3",
   "metadata": {},
   "outputs": [],
   "source": [
    "parts_ids = df['parts_id'].unique()\n",
    "\n",
    "fig, axes = plt.subplots(nrows=2, ncols=2, figsize=(12,9))\n",
    "\n",
    "for i, ax in enumerate(axes.flatten()):\n",
    "    \n",
    "    ax.bar(\n",
    "        x=df[df['parts_id'] == parts_ids[i]]['date'],\n",
    "        height=df[df['parts_id'] == parts_ids[i]]['volume'],\n",
    "        color='lightgray'\n",
    "    )\n",
    "\n",
    "    ax.set_xlabel('Date')\n",
    "    ax.set_ylabel('Volume')\n",
    "    \n",
    "    ax.xaxis.set_major_locator(plt.MaxNLocator(5))\n",
    "    \n",
    "plt.tight_layout()"
   ]
  },
  {
   "cell_type": "markdown",
   "id": "0ad928ae",
   "metadata": {},
   "source": [
    "## Forecasting "
   ]
  },
  {
   "cell_type": "code",
   "execution_count": null,
   "id": "dfe545fc",
   "metadata": {},
   "outputs": [],
   "source": [
    "# Format dataset:\n",
    "# Drop the id column (not the parts_id column)\n",
    "# Rename columns to \"unique_id\", \"ds\", \"y\"\n",
    "\n"
   ]
  },
  {
   "cell_type": "code",
   "execution_count": null,
   "id": "bf965ec1",
   "metadata": {},
   "outputs": [],
   "source": [
    "# Use a horizon of 4 months\n",
    "# Use a step size of 4\n",
    "# Use 3 windows\n",
    "# Model with Croston, ADIDA and TSB\n",
    "\n"
   ]
  },
  {
   "cell_type": "markdown",
   "id": "df17fab6",
   "metadata": {},
   "source": [
    "## Evaluation "
   ]
  },
  {
   "cell_type": "code",
   "execution_count": null,
   "id": "3f05bc59",
   "metadata": {},
   "outputs": [],
   "source": [
    "fig, axes = plt.subplots(nrows=2, ncols=2, figsize=(12,9))\n",
    "\n",
    "for i, ax in enumerate(axes.flatten()):\n",
    "    \n",
    "    ax.bar(\n",
    "        x=df[df['parts_id'] == parts_ids[i]]['date'],\n",
    "        height=df[df['parts_id'] == parts_ids[i]]['volume'],\n",
    "        color='lightgray'\n",
    "    )\n",
    "    ax.plot(\n",
    "        cv_df[cv_df.index==parts_ids[i]]['ds'],\n",
    "        cv_df[cv_df.index==parts_ids[i]]['CrostonOptimized'],\n",
    "        ls='--',\n",
    "        label='Croston'\n",
    "    )\n",
    "    \n",
    "    ax.plot(\n",
    "        cv_df[cv_df.index==parts_ids[i]]['ds'],\n",
    "        cv_df[cv_df.index==parts_ids[i]]['ADIDA'],\n",
    "        ls=':',\n",
    "        label='ADIDA'\n",
    "    )\n",
    "    \n",
    "    ax.plot(\n",
    "        cv_df[cv_df.index==parts_ids[i]]['ds'],\n",
    "        cv_df[cv_df.index==parts_ids[i]]['TSB'],\n",
    "        ls='-.',\n",
    "        label='TSB'\n",
    "    )\n",
    "\n",
    "    ax.set_xlabel('Date')\n",
    "    ax.set_ylabel('Volume')\n",
    "    ax.legend(loc='best')\n",
    "    \n",
    "    ax.xaxis.set_major_locator(plt.MaxNLocator(5))\n",
    "    \n",
    "plt.tight_layout()"
   ]
  },
  {
   "cell_type": "code",
   "execution_count": null,
   "id": "71159b55",
   "metadata": {},
   "outputs": [],
   "source": [
    "croston_errors = errors(cv_df['y'], cv_df['CrostonOptimized'])\n",
    "adida_errors = errors(cv_df['y'], cv_df['ADIDA'])\n",
    "tsb_errors = errors(cv_df['y'], cv_df['TSB'])\n",
    "\n",
    "print(croston_errors)\n",
    "print(adida_errors)\n",
    "print(tsb_errors)"
   ]
  },
  {
   "cell_type": "code",
   "execution_count": null,
   "id": "5dd24fe9",
   "metadata": {},
   "outputs": [],
   "source": [
    "models = ['Croston', 'ADIDA', 'TSB']\n",
    "errors = {\n",
    "    'CFE': (-41, -5, -34),\n",
    "    'PIS': (2060, 270, 1424),\n",
    "    'NOS': (12, 26, 14)\n",
    "}\n",
    "\n",
    "x = np.arange(len(models))\n",
    "width = 0.25\n",
    "multiplier = 0\n",
    "\n",
    "fig, ax = plt.subplots()\n",
    "\n",
    "for attr, value in errors.items():\n",
    "    offset = width*multiplier\n",
    "    rects = ax.bar(x+offset, value, width, label=attr)\n",
    "    ax.bar_label(rects, padding=3)\n",
    "    multiplier += 1\n",
    "    \n",
    "ax.set_xlabel('Models')\n",
    "ax.set_ylabel('Error metrics')\n",
    "ax.set_xticks(x+width, models)\n",
    "ax.legend(loc='best')\n",
    "\n",
    "plt.tight_layout()"
   ]
  },
  {
   "cell_type": "code",
   "execution_count": null,
   "id": "9645e9dc",
   "metadata": {},
   "outputs": [],
   "source": []
  }
 ],
 "metadata": {
  "kernelspec": {
   "display_name": "Python 3",
   "language": "python",
   "name": "python3"
  },
  "language_info": {
   "codemirror_mode": {
    "name": "ipython",
    "version": 3
   },
   "file_extension": ".py",
   "mimetype": "text/x-python",
   "name": "python",
   "nbconvert_exporter": "python",
   "pygments_lexer": "ipython3",
   "version": "3.10.9"
  }
 },
 "nbformat": 4,
 "nbformat_minor": 5
}
