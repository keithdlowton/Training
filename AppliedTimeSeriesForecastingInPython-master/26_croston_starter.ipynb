{
 "cells": [
  {
   "cell_type": "code",
   "execution_count": null,
   "id": "81a34b98",
   "metadata": {},
   "outputs": [],
   "source": [
    "import pandas as pd\n",
    "import numpy as np\n",
    "import matplotlib.pyplot as plt\n",
    "\n",
    "import warnings\n",
    "warnings.filterwarnings('ignore')\n",
    "\n",
    "%matplotlib inline"
   ]
  },
  {
   "cell_type": "code",
   "execution_count": null,
   "id": "e1cf585c",
   "metadata": {},
   "outputs": [],
   "source": [
    "plt.rcParams[\"figure.figsize\"] = (9,6)"
   ]
  },
  {
   "cell_type": "markdown",
   "id": "97dfdc88",
   "metadata": {},
   "source": [
    "# Croston's method"
   ]
  },
  {
   "cell_type": "code",
   "execution_count": null,
   "id": "67466e30",
   "metadata": {},
   "outputs": [],
   "source": [
    "df = pd.read_csv('data/intermittent_time_series.csv')\n",
    "\n",
    "df.head()"
   ]
  },
  {
   "cell_type": "markdown",
   "id": "2389581d",
   "metadata": {},
   "source": [
    "## Optimized Croston's Method "
   ]
  },
  {
   "cell_type": "code",
   "execution_count": null,
   "id": "6c116ec6",
   "metadata": {},
   "outputs": [],
   "source": []
  }
 ],
 "metadata": {
  "kernelspec": {
   "display_name": "Python 3",
   "language": "python",
   "name": "python3"
  },
  "language_info": {
   "codemirror_mode": {
    "name": "ipython",
    "version": 3
   },
   "file_extension": ".py",
   "mimetype": "text/x-python",
   "name": "python",
   "nbconvert_exporter": "python",
   "pygments_lexer": "ipython3",
   "version": "3.10.9"
  }
 },
 "nbformat": 4,
 "nbformat_minor": 5
}
