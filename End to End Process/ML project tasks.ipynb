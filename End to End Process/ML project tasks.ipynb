{
 "cells": [
  {
   "cell_type": "markdown",
   "metadata": {},
   "source": [
    "<h3> 1. Define the problem from a high-level view"
   ]
  },
  {
   "cell_type": "markdown",
   "metadata": {},
   "source": [
    "> -  the nature of the problem(supervised/unsupervised, classification/regression), <br>\n",
    "> -  type of solutions you can develop <br>\n",
    "> -  what metrics you should use to measure performance? <br>\n",
    "> -  is machine learning the right approach to solve this problem? <br>\n",
    "> -  manual approach to solving the problem. <br>\n",
    "> -  the inherent assumptions of the problem <br>"
   ]
  },
  {
   "cell_type": "markdown",
   "metadata": {},
   "source": [
    "<h3> 2. Identify the data sources and acquire the data"
   ]
  },
  {
   "cell_type": "markdown",
   "metadata": {},
   "source": [
    "> -  list the sources and amount of data you need. <br> \n",
    "> -  check if space is going to be an issue. <br> \n",
    "> -  check if you’re authorized to use the data for your purpose or not. <br>\n",
    "> -  acquire the data and convert it into a workable format. <br>\n",
    "> -  check the type of data(textual, categorical, numerical, time series, images) <br>\n",
    "> -  take aside a sample of it for final testing purposes. <br>"
   ]
  },
  {
   "cell_type": "markdown",
   "metadata": {},
   "source": [
    "<h3> 3. Initial Exploratoration of Data"
   ]
  },
  {
   "cell_type": "markdown",
   "metadata": {},
   "source": [
    "***\n",
    "> -  identify the target variable <br>\n",
    "> -  identify the types of features(categorical, numerical, textual, etc.) <br>\n",
    "> -  analyze the correlation between features. <br>\n",
    "> -  add a few data visualizations for easy interpretation of the impact of each feature on the target variable. <br>\n",
    "> -  document your findings. <br>"
   ]
  },
  {
   "cell_type": "markdown",
   "metadata": {},
   "source": [
    "<h3> 4. Exploratory Data Analysis to Prepare the Data"
   ]
  },
  {
   "cell_type": "markdown",
   "metadata": {},
   "source": [
    "> -  Write functions to transform the data and automate the process for the forthcoming batches of data. <br>\n",
    "> -  Write functions to clean the data(imputing missing values and handling outliers) <br>\n",
    "> -  Write functions to select and engineer features — drop redundant features, format conversion of features, and other mathematical transformations. <br>\n",
    "> -  Feature scaling — standardize the features. <br>"
   ]
  },
  {
   "cell_type": "markdown",
   "metadata": {},
   "source": [
    "<h3> 5. Develop a baseline model and then explore other models to shortlist the best ones"
   ]
  },
  {
   "cell_type": "markdown",
   "metadata": {},
   "source": [
    "> -  Train a few commonly used ML models like naive bayes, linear regression, SVM, etc using default parameters. <br>\n",
    "> -  Measure and compare the performance of each model with the baseline and with all the others. <br>\n",
    "> -  Employ N-fold cross-validation for each model and compute the mean and standard deviation of the performance metrics on the N folds. <br>\n",
    "> -  Study the features that have the most impact on the target. <br>\n",
    "> -  Analyze the types of errors the models make while predicting. <br>\n",
    "> -  Engineer the features in a different manner. <br>\n",
    "> -  Repeat the above steps a few times(trial and error) to be sure that we have used the right features in the right format. <br>\n",
    "> -  Shortlist the top models based on their performance measures. <br>"
   ]
  },
  {
   "cell_type": "markdown",
   "metadata": {},
   "source": [
    "<h3> 6. Fine-tune your shortlisted models and check for ensemble methods"
   ]
  },
  {
   "cell_type": "markdown",
   "metadata": {},
   "source": [
    "> -  Hyperparameter tuning using cross-validation. <br>\n",
    "> -  Use automated tuning methods like random search or grid search to find out the best configuration for your best models. <br>\n",
    "> -  Test ensemble methods like voting classifiers etc. <br>\n",
    "> -  Test the models with as much data as possible. <br>\n",
    "> -  Once finalized, use the unseen test sample that we set aside, in the beginning, to check for overfitting or underfitting. <br>"
   ]
  },
  {
   "cell_type": "markdown",
   "metadata": {},
   "source": [
    "<h3> 7. Document Code and Communicate your solution"
   ]
  },
  {
   "cell_type": "markdown",
   "metadata": {},
   "source": [
    "> -  Document the code as well as your approach and journey throughout your project. <br>\n",
    "> -  Create a dashboard like voila or an insightful presentation with close to self-explanatory visualizations. <br>\n",
    "> -  Write a blog/report capturing how you analyzed the features, tested different transformations, etc. Capture your learning(failures and techniques that worked) <br>\n",
    "> -  Conclude with the main outcome and future scope(if any) <br>"
   ]
  },
  {
   "cell_type": "code",
   "execution_count": null,
   "metadata": {},
   "outputs": [],
   "source": []
  }
 ],
 "metadata": {
  "kernelspec": {
   "display_name": "Python 3",
   "language": "python",
   "name": "python3"
  },
  "language_info": {
   "codemirror_mode": {
    "name": "ipython",
    "version": 3
   },
   "file_extension": ".py",
   "mimetype": "text/x-python",
   "name": "python",
   "nbconvert_exporter": "python",
   "pygments_lexer": "ipython3",
   "version": "3.8.3"
  }
 },
 "nbformat": 4,
 "nbformat_minor": 4
}
